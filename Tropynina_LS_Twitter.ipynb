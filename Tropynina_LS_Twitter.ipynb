{
 "cells": [
  {
   "cell_type": "code",
   "execution_count": 63,
   "id": "2466e3e5-74b3-48cf-aaa1-d60380e90d5f",
   "metadata": {},
   "outputs": [],
   "source": [
    "import numpy as np\n",
    "import pandas as pd\n",
    "import matplotlib.pyplot as plt"
   ]
  },
  {
   "cell_type": "code",
   "execution_count": 64,
   "id": "a647b8f0-8182-4d3e-bf9e-8d04bb611dbf",
   "metadata": {},
   "outputs": [],
   "source": [
    "#Читаю файлы\n",
    "dub1 = pd.read_csv('C:\\\\Users\\\\eatropynina\\\\LS\\\\tweeter_dub1.csv', sep = ';', encoding='utf-8')\n",
    "dub2 = pd.read_csv('C:\\\\Users\\\\eatropynina\\\\LS\\\\tweeter_dub2.csv', sep = ';', encoding='utf-8')"
   ]
  },
  {
   "cell_type": "code",
   "execution_count": 65,
   "id": "2e4f6b55-8cc3-4e2b-9d5b-f123d2a11a8c",
   "metadata": {},
   "outputs": [],
   "source": [
    "#Меняю название колонок на английские для дальнейшей удобной работы\n",
    "dub1.rename(columns={'Автор поста': 'author_name_1', 'Вид автора поста': 'type_author_1','текст поста':'text_1','дата поста':'date_1'}, inplace=True)\n",
    "dub2.rename(columns={'Автор поста': 'author_name_2', 'Вид автора поста': 'type_author_2','текст поста':'text_2','дата поста':'date_2'}, inplace=True)"
   ]
  },
  {
   "cell_type": "code",
   "execution_count": 66,
   "id": "b4ef35cc-0c38-4419-b82d-bf2d25281598",
   "metadata": {},
   "outputs": [],
   "source": [
    "#Изменила тип данных на корректный тип\n",
    "dub1['date_1'] = pd.to_datetime(dub1['date_1'], dayfirst=True)\n",
    "dub1['text_1'] = dub1['text_1'].astype(\"string\")\n",
    "\n",
    "#Изменила тип данных для даты на корректный тип\n",
    "dub2['date_2'] = pd.to_datetime(dub2['date_2'], dayfirst=True)\n",
    "dub2['text_2'] = dub2['text_2'].astype(\"string\")\n",
    "\n",
    "#Привела весь текст к нижнему регистру, чтобы легче было искать слова\n",
    "dub1['text_1'] = dub1['text_1'].str.lower()\n",
    "dub2['text_2'] = dub2['text_2'].str.lower()"
   ]
  },
  {
   "cell_type": "code",
   "execution_count": 67,
   "id": "44c0666c-8403-49ac-a966-f784095a1d85",
   "metadata": {},
   "outputs": [
    {
     "data": {
      "text/plain": [
       "author_name_2    0\n",
       "type_author_2    0\n",
       "text_2           0\n",
       "date_2           0\n",
       "dtype: int64"
      ]
     },
     "execution_count": 67,
     "metadata": {},
     "output_type": "execute_result"
    }
   ],
   "source": [
    "#Проверила датасет на пустые значения\n",
    "dub2.isnull().sum()"
   ]
  },
  {
   "cell_type": "code",
   "execution_count": 68,
   "id": "177e767e-b097-4b02-b0de-34e3f55dfb0b",
   "metadata": {},
   "outputs": [
    {
     "data": {
      "text/plain": [
       "author_name_1    0\n",
       "type_author_1    0\n",
       "text_1           0\n",
       "date_1           0\n",
       "dtype: int64"
      ]
     },
     "execution_count": 68,
     "metadata": {},
     "output_type": "execute_result"
    }
   ],
   "source": [
    "dub1.isnull().sum()"
   ]
  },
  {
   "cell_type": "code",
   "execution_count": 69,
   "id": "769ca3a3-3b57-4a64-bde0-bd26c65624c4",
   "metadata": {},
   "outputs": [
    {
     "data": {
      "text/plain": [
       "type_author_2\n",
       "Енот       32\n",
       "Заяц       25\n",
       "Волк       23\n",
       "Ворон      23\n",
       "Олень      22\n",
       "Лис        19\n",
       "Воробей    19\n",
       "Сорока     19\n",
       "Синица     17\n",
       "Еж         16\n",
       "Белка      15\n",
       "Медведь    15\n",
       "Детял      14\n",
       "Name: count, dtype: int64"
      ]
     },
     "execution_count": 69,
     "metadata": {},
     "output_type": "execute_result"
    }
   ],
   "source": [
    "#Посмотрела нет ли дублей в таблице - проверила все столбцы\n",
    "dub2['type_author_2'].value_counts().sort_values(ascending=False)"
   ]
  },
  {
   "cell_type": "code",
   "execution_count": 70,
   "id": "e4ba2f8b-a5fd-4f0e-ad65-2dcb55247e56",
   "metadata": {},
   "outputs": [],
   "source": [
    "#Создала список позитивных и негативных слов\n",
    "list_p = ['хороших','забавные', 'спасибо,', 'радостно','радости.','жизнерадостные','радостный','радостью','радость','радостью!','радостными', 'вкусностями!','вкусные','вкусным.','вкусным!','вкусного','вкусный','вкусные', 'забавными!','забавный', 'милым','милыми','милые','уютную','уютный','уютное', \n",
    "          'весело','веселящихся','веселым','веселыми','веселые','веселое','веселье!','весело!','веселую','веселая', 'мелодичное','мелодично','мелодичные','мелодичный', 'свободный','свободными!', 'ласковый','весельем.'\n",
    "          ,'впечатляющая', 'талантливым!','талантливым','талантливая!','талантом!','талантливые','талантами','вдохновляют','вдохновляющими','оптимизмом','оптимизм']\n",
    "list_n=['ненавистный', 'безответственными','безответственным','безответственность!','безответственности!','безответственного', 'дикие','диких', 'дикого','дикой', 'безнаказанной!','наказания!','наказанию!','наказания','безнаказанным!', 'жестокость','жестокости','жестокость!','жестокости!', 'убийство', 'убийцам','убийц!', 'деревоубийцам','деревоубийца', 'прикончить', 'странную'\n",
    "        'бед!','беда', 'виноват!', 'варварство!', 'грустью','грустно','грустный','грустном','грусть', 'печали.','печалью','печаль.','печальный','печали','печальном','печально','печально,', 'печаль','плохой','плохое!', 'фейк','утраты','горькой']\n",
    "\n"
   ]
  },
  {
   "cell_type": "code",
   "execution_count": 71,
   "id": "a663e958-3e6f-4b00-9bdd-e74e4f5dfcea",
   "metadata": {},
   "outputs": [
    {
     "data": {
      "text/plain": [
       "33"
      ]
     },
     "execution_count": 71,
     "metadata": {},
     "output_type": "execute_result"
    }
   ],
   "source": [
    "#Создаю пустой список, который буду заполнять словами из постов\n",
    "dub1_words = []\n",
    "\n",
    "for i in range(len(dub1)):\n",
    "    words = dub1['text_1'][i].split()\n",
    "    dub1_words.extend(words)\n",
    "\n",
    "#Сравниваю элементы списков друг с другом и вывожу количество позитивных слов\n",
    "positive_dub1 = set(dub1_words) & set(list_p)\n",
    "count_positive_dub1 = len(positive_dub1)\n",
    "count_positive_dub1"
   ]
  },
  {
   "cell_type": "code",
   "execution_count": 72,
   "id": "36953e50-5eab-488c-bbc9-09c636f3dd9c",
   "metadata": {},
   "outputs": [
    {
     "data": {
      "text/plain": [
       "28"
      ]
     },
     "execution_count": 72,
     "metadata": {},
     "output_type": "execute_result"
    }
   ],
   "source": [
    "#Сравниваю элементы списков друг с другом и вывожу количество негативных слов\n",
    "\n",
    "negative_dub1 = set(dub1_words) & set(list_n)\n",
    "count_negative_dub1 = len(negative_dub1)\n",
    "count_negative_dub1"
   ]
  },
  {
   "cell_type": "code",
   "execution_count": 73,
   "id": "c5e66186-0702-4cce-909d-5f1e3dddf12e",
   "metadata": {},
   "outputs": [
    {
     "data": {
      "text/html": [
       "<div>\n",
       "<style scoped>\n",
       "    .dataframe tbody tr th:only-of-type {\n",
       "        vertical-align: middle;\n",
       "    }\n",
       "\n",
       "    .dataframe tbody tr th {\n",
       "        vertical-align: top;\n",
       "    }\n",
       "\n",
       "    .dataframe thead th {\n",
       "        text-align: right;\n",
       "    }\n",
       "</style>\n",
       "<table border=\"1\" class=\"dataframe\">\n",
       "  <thead>\n",
       "    <tr style=\"text-align: right;\">\n",
       "      <th></th>\n",
       "      <th>author_name_1</th>\n",
       "      <th>type_author_1</th>\n",
       "      <th>text_1</th>\n",
       "      <th>date_1</th>\n",
       "      <th>count_p</th>\n",
       "      <th>positive_dub1</th>\n",
       "      <th>count_every_positive_dub1</th>\n",
       "      <th>count_n</th>\n",
       "      <th>negative_dub1</th>\n",
       "      <th>count_every_negative_dub1</th>\n",
       "    </tr>\n",
       "  </thead>\n",
       "  <tbody>\n",
       "    <tr>\n",
       "      <th>0</th>\n",
       "      <td>Никита</td>\n",
       "      <td>Заяц</td>\n",
       "      <td>вчера в лесу прошел забавный конкурс на лучшее...</td>\n",
       "      <td>2024-08-26</td>\n",
       "      <td>[вчера, в, лесу, прошел, забавный, конкурс, на...</td>\n",
       "      <td>{забавный}</td>\n",
       "      <td>1</td>\n",
       "      <td>[вчера, в, лесу, прошел, забавный, конкурс, на...</td>\n",
       "      <td>{забавный}</td>\n",
       "      <td>1</td>\n",
       "    </tr>\n",
       "    <tr>\n",
       "      <th>1</th>\n",
       "      <td>Алиса</td>\n",
       "      <td>Лис</td>\n",
       "      <td>сегодня встретил в лесу стайку воробьев, котор...</td>\n",
       "      <td>2024-08-02</td>\n",
       "      <td>[сегодня, встретил, в, лесу, стайку, воробьев,...</td>\n",
       "      <td>{радостно, вдохновляют}</td>\n",
       "      <td>2</td>\n",
       "      <td>[сегодня, встретил, в, лесу, стайку, воробьев,...</td>\n",
       "      <td>{радостно, вдохновляют}</td>\n",
       "      <td>2</td>\n",
       "    </tr>\n",
       "    <tr>\n",
       "      <th>2</th>\n",
       "      <td>Костя</td>\n",
       "      <td>Воробей</td>\n",
       "      <td>сегодня встретил в лесу воробьев, радостно чир...</td>\n",
       "      <td>2024-06-02</td>\n",
       "      <td>[сегодня, встретил, в, лесу, воробьев,, радост...</td>\n",
       "      <td>{радостью, радостно}</td>\n",
       "      <td>2</td>\n",
       "      <td>[сегодня, встретил, в, лесу, воробьев,, радост...</td>\n",
       "      <td>{радостью, радостно}</td>\n",
       "      <td>2</td>\n",
       "    </tr>\n",
       "    <tr>\n",
       "      <th>3</th>\n",
       "      <td>Мария</td>\n",
       "      <td>Лис</td>\n",
       "      <td>утром услышал звуки выстрелов охотников. пора ...</td>\n",
       "      <td>2024-08-04</td>\n",
       "      <td>[утром, услышал, звуки, выстрелов, охотников.,...</td>\n",
       "      <td>{}</td>\n",
       "      <td>0</td>\n",
       "      <td>[утром, услышал, звуки, выстрелов, охотников.,...</td>\n",
       "      <td>{}</td>\n",
       "      <td>0</td>\n",
       "    </tr>\n",
       "    <tr>\n",
       "      <th>4</th>\n",
       "      <td>Ольга</td>\n",
       "      <td>Енот</td>\n",
       "      <td>утром наблюдал за игрой белок на поляне. они б...</td>\n",
       "      <td>2024-07-19</td>\n",
       "      <td>[утром, наблюдал, за, игрой, белок, на, поляне...</td>\n",
       "      <td>{забавными!}</td>\n",
       "      <td>1</td>\n",
       "      <td>[утром, наблюдал, за, игрой, белок, на, поляне...</td>\n",
       "      <td>{забавными!}</td>\n",
       "      <td>1</td>\n",
       "    </tr>\n",
       "    <tr>\n",
       "      <th>...</th>\n",
       "      <td>...</td>\n",
       "      <td>...</td>\n",
       "      <td>...</td>\n",
       "      <td>...</td>\n",
       "      <td>...</td>\n",
       "      <td>...</td>\n",
       "      <td>...</td>\n",
       "      <td>...</td>\n",
       "      <td>...</td>\n",
       "      <td>...</td>\n",
       "    </tr>\n",
       "    <tr>\n",
       "      <th>254</th>\n",
       "      <td>Мария</td>\n",
       "      <td>Волк</td>\n",
       "      <td>сегодня в лесу заметил странное свечение. каже...</td>\n",
       "      <td>2024-06-10</td>\n",
       "      <td>[сегодня, в, лесу, заметил, странное, свечение...</td>\n",
       "      <td>{}</td>\n",
       "      <td>0</td>\n",
       "      <td>[сегодня, в, лесу, заметил, странное, свечение...</td>\n",
       "      <td>{}</td>\n",
       "      <td>0</td>\n",
       "    </tr>\n",
       "    <tr>\n",
       "      <th>255</th>\n",
       "      <td>Семен</td>\n",
       "      <td>Олень</td>\n",
       "      <td>слышал шепот деревьев от ветра. лучшая колыбел...</td>\n",
       "      <td>2024-08-26</td>\n",
       "      <td>[слышал, шепот, деревьев, от, ветра., лучшая, ...</td>\n",
       "      <td>{}</td>\n",
       "      <td>0</td>\n",
       "      <td>[слышал, шепот, деревьев, от, ветра., лучшая, ...</td>\n",
       "      <td>{}</td>\n",
       "      <td>0</td>\n",
       "    </tr>\n",
       "    <tr>\n",
       "      <th>256</th>\n",
       "      <td>Егор</td>\n",
       "      <td>Заяц</td>\n",
       "      <td>сегодня встретил в лесу ручей, бурлящий своими...</td>\n",
       "      <td>2024-07-28</td>\n",
       "      <td>[сегодня, встретил, в, лесу, ручей,, бурлящий,...</td>\n",
       "      <td>{}</td>\n",
       "      <td>0</td>\n",
       "      <td>[сегодня, встретил, в, лесу, ручей,, бурлящий,...</td>\n",
       "      <td>{}</td>\n",
       "      <td>0</td>\n",
       "    </tr>\n",
       "    <tr>\n",
       "      <th>257</th>\n",
       "      <td>Марина</td>\n",
       "      <td>Олень</td>\n",
       "      <td>на прогулке обнаружил место, где раскинулись м...</td>\n",
       "      <td>2024-08-09</td>\n",
       "      <td>[на, прогулке, обнаружил, место,, где, раскину...</td>\n",
       "      <td>{}</td>\n",
       "      <td>0</td>\n",
       "      <td>[на, прогулке, обнаружил, место,, где, раскину...</td>\n",
       "      <td>{}</td>\n",
       "      <td>0</td>\n",
       "    </tr>\n",
       "    <tr>\n",
       "      <th>258</th>\n",
       "      <td>Ольга</td>\n",
       "      <td>Олень</td>\n",
       "      <td>сегодня встретил в лесу семью оленей, пасущихс...</td>\n",
       "      <td>2024-08-30</td>\n",
       "      <td>[сегодня, встретил, в, лесу, семью, оленей,, п...</td>\n",
       "      <td>{}</td>\n",
       "      <td>0</td>\n",
       "      <td>[сегодня, встретил, в, лесу, семью, оленей,, п...</td>\n",
       "      <td>{}</td>\n",
       "      <td>0</td>\n",
       "    </tr>\n",
       "  </tbody>\n",
       "</table>\n",
       "<p>259 rows × 10 columns</p>\n",
       "</div>"
      ],
      "text/plain": [
       "    author_name_1 type_author_1  \\\n",
       "0          Никита          Заяц   \n",
       "1           Алиса           Лис   \n",
       "2           Костя       Воробей   \n",
       "3           Мария           Лис   \n",
       "4           Ольга          Енот   \n",
       "..            ...           ...   \n",
       "254         Мария          Волк   \n",
       "255         Семен         Олень   \n",
       "256          Егор          Заяц   \n",
       "257        Марина         Олень   \n",
       "258         Ольга         Олень   \n",
       "\n",
       "                                                text_1     date_1  \\\n",
       "0    вчера в лесу прошел забавный конкурс на лучшее... 2024-08-26   \n",
       "1    сегодня встретил в лесу стайку воробьев, котор... 2024-08-02   \n",
       "2    сегодня встретил в лесу воробьев, радостно чир... 2024-06-02   \n",
       "3    утром услышал звуки выстрелов охотников. пора ... 2024-08-04   \n",
       "4    утром наблюдал за игрой белок на поляне. они б... 2024-07-19   \n",
       "..                                                 ...        ...   \n",
       "254  сегодня в лесу заметил странное свечение. каже... 2024-06-10   \n",
       "255  слышал шепот деревьев от ветра. лучшая колыбел... 2024-08-26   \n",
       "256  сегодня встретил в лесу ручей, бурлящий своими... 2024-07-28   \n",
       "257  на прогулке обнаружил место, где раскинулись м... 2024-08-09   \n",
       "258  сегодня встретил в лесу семью оленей, пасущихс... 2024-08-30   \n",
       "\n",
       "                                               count_p  \\\n",
       "0    [вчера, в, лесу, прошел, забавный, конкурс, на...   \n",
       "1    [сегодня, встретил, в, лесу, стайку, воробьев,...   \n",
       "2    [сегодня, встретил, в, лесу, воробьев,, радост...   \n",
       "3    [утром, услышал, звуки, выстрелов, охотников.,...   \n",
       "4    [утром, наблюдал, за, игрой, белок, на, поляне...   \n",
       "..                                                 ...   \n",
       "254  [сегодня, в, лесу, заметил, странное, свечение...   \n",
       "255  [слышал, шепот, деревьев, от, ветра., лучшая, ...   \n",
       "256  [сегодня, встретил, в, лесу, ручей,, бурлящий,...   \n",
       "257  [на, прогулке, обнаружил, место,, где, раскину...   \n",
       "258  [сегодня, встретил, в, лесу, семью, оленей,, п...   \n",
       "\n",
       "               positive_dub1  count_every_positive_dub1  \\\n",
       "0                 {забавный}                          1   \n",
       "1    {радостно, вдохновляют}                          2   \n",
       "2       {радостью, радостно}                          2   \n",
       "3                         {}                          0   \n",
       "4               {забавными!}                          1   \n",
       "..                       ...                        ...   \n",
       "254                       {}                          0   \n",
       "255                       {}                          0   \n",
       "256                       {}                          0   \n",
       "257                       {}                          0   \n",
       "258                       {}                          0   \n",
       "\n",
       "                                               count_n  \\\n",
       "0    [вчера, в, лесу, прошел, забавный, конкурс, на...   \n",
       "1    [сегодня, встретил, в, лесу, стайку, воробьев,...   \n",
       "2    [сегодня, встретил, в, лесу, воробьев,, радост...   \n",
       "3    [утром, услышал, звуки, выстрелов, охотников.,...   \n",
       "4    [утром, наблюдал, за, игрой, белок, на, поляне...   \n",
       "..                                                 ...   \n",
       "254  [сегодня, в, лесу, заметил, странное, свечение...   \n",
       "255  [слышал, шепот, деревьев, от, ветра., лучшая, ...   \n",
       "256  [сегодня, встретил, в, лесу, ручей,, бурлящий,...   \n",
       "257  [на, прогулке, обнаружил, место,, где, раскину...   \n",
       "258  [сегодня, встретил, в, лесу, семью, оленей,, п...   \n",
       "\n",
       "               negative_dub1  count_every_negative_dub1  \n",
       "0                 {забавный}                          1  \n",
       "1    {радостно, вдохновляют}                          2  \n",
       "2       {радостью, радостно}                          2  \n",
       "3                         {}                          0  \n",
       "4               {забавными!}                          1  \n",
       "..                       ...                        ...  \n",
       "254                       {}                          0  \n",
       "255                       {}                          0  \n",
       "256                       {}                          0  \n",
       "257                       {}                          0  \n",
       "258                       {}                          0  \n",
       "\n",
       "[259 rows x 10 columns]"
      ]
     },
     "execution_count": 73,
     "metadata": {},
     "output_type": "execute_result"
    }
   ],
   "source": [
    "#Создаю столбец, в который вынесу все слова в виде списка\n",
    "dub1['count_p'] = dub1['text_1'].str.split()\n",
    "#Создаю столбец, в который вынесу все позитивные слова в виде списка\n",
    "dub1['positive_dub1'] = dub1['count_p'].apply(lambda x: set(x) & set(list_p))\n",
    "#Создаю столбец, который считает кол-во позитивных слов в строчке\n",
    "dub1['count_every_positive_dub1'] = dub1['positive_dub1'].apply(len)\n",
    "\n",
    "#Делаю те же действия для негативных слов\n",
    "dub1['count_n'] = dub1['text_1'].str.split()\n",
    "dub1['negative_dub1'] = dub1['count_n'].apply(lambda x: set(x) & set(list_p))\n",
    "dub1['count_every_negative_dub1'] = dub1['negative_dub1'].apply(len)\n",
    "\n",
    "dub1"
   ]
  },
  {
   "cell_type": "code",
   "execution_count": 74,
   "id": "2ed38eed-f069-41aa-ab57-6c10e4fdd6bf",
   "metadata": {},
   "outputs": [
    {
     "data": {
      "text/plain": [
       "0.5409836065573771"
      ]
     },
     "execution_count": 74,
     "metadata": {},
     "output_type": "execute_result"
    }
   ],
   "source": [
    "dubb1 = count_positive_dub1/(count_positive_dub1+count_negative_dub1)\n",
    "dubb1 #Доля позитивных постов среди общего количества"
   ]
  },
  {
   "cell_type": "code",
   "execution_count": 75,
   "id": "84d39e5d-9560-4668-ae86-756211ee60ce",
   "metadata": {},
   "outputs": [
    {
     "data": {
      "text/plain": [
       "36"
      ]
     },
     "execution_count": 75,
     "metadata": {},
     "output_type": "execute_result"
    }
   ],
   "source": [
    "dub2_words = []\n",
    "\n",
    "for i in range(len(dub2)):\n",
    "    words = dub2['text_2'][i].split()\n",
    "    dub2_words.extend(words)\n",
    "\n",
    "positive_dub2 = set(dub2_words) & set(list_p)\n",
    "count_positive_dub2 = len(positive_dub2)\n",
    "count_positive_dub2"
   ]
  },
  {
   "cell_type": "code",
   "execution_count": 76,
   "id": "1afd0954-b5b7-440a-85b3-f424fe7018ca",
   "metadata": {},
   "outputs": [
    {
     "data": {
      "text/plain": [
       "24"
      ]
     },
     "execution_count": 76,
     "metadata": {},
     "output_type": "execute_result"
    }
   ],
   "source": [
    "negative_dub2 = set(dub2_words) & set(list_n)\n",
    "count_negative_dub2 = len(negative_dub2)\n",
    "count_negative_dub2"
   ]
  },
  {
   "cell_type": "code",
   "execution_count": 77,
   "id": "1aaa376b-7d4f-4619-a9cb-2dcedded0748",
   "metadata": {},
   "outputs": [
    {
     "data": {
      "text/plain": [
       "0.6"
      ]
     },
     "execution_count": 77,
     "metadata": {},
     "output_type": "execute_result"
    }
   ],
   "source": [
    "dubb2 = count_positive_dub2/(count_positive_dub2+count_negative_dub2)\n",
    "dubb2 #Доля позитивных постов среди общего количества"
   ]
  },
  {
   "cell_type": "markdown",
   "id": "80c5468d-3cab-497f-adb5-ab94ed7159a0",
   "metadata": {},
   "source": [
    "В СРЕДНЕМ БОЛЕЕ ДОБРЫЙ ДУБ №2, ТАК КАК ДОЛЯ И КОЛ-ВО ПОЗИТИВНЫХ ПОСТОВ У НЕГО ВЫШЕ"
   ]
  },
  {
   "cell_type": "code",
   "execution_count": 78,
   "id": "a4c885ec-719e-4929-b40f-bc92c11937e0",
   "metadata": {},
   "outputs": [
    {
     "data": {
      "text/html": [
       "<div>\n",
       "<style scoped>\n",
       "    .dataframe tbody tr th:only-of-type {\n",
       "        vertical-align: middle;\n",
       "    }\n",
       "\n",
       "    .dataframe tbody tr th {\n",
       "        vertical-align: top;\n",
       "    }\n",
       "\n",
       "    .dataframe thead th {\n",
       "        text-align: right;\n",
       "    }\n",
       "</style>\n",
       "<table border=\"1\" class=\"dataframe\">\n",
       "  <thead>\n",
       "    <tr style=\"text-align: right;\">\n",
       "      <th></th>\n",
       "      <th>author_name_2</th>\n",
       "      <th>type_author_2</th>\n",
       "      <th>text_2</th>\n",
       "      <th>date_2</th>\n",
       "      <th>count_p</th>\n",
       "      <th>positive_dub2</th>\n",
       "      <th>count_every_positive_dub2</th>\n",
       "      <th>count_n</th>\n",
       "      <th>negative_dub2</th>\n",
       "      <th>count_every_negative_dub2</th>\n",
       "    </tr>\n",
       "  </thead>\n",
       "  <tbody>\n",
       "    <tr>\n",
       "      <th>0</th>\n",
       "      <td>Дмитрий</td>\n",
       "      <td>Синица</td>\n",
       "      <td>на прогулке обнаружил поляну, покрытую цветами...</td>\n",
       "      <td>2024-08-29</td>\n",
       "      <td>[на, прогулке, обнаружил, поляну,, покрытую, ц...</td>\n",
       "      <td>{}</td>\n",
       "      <td>0</td>\n",
       "      <td>[на, прогулке, обнаружил, поляну,, покрытую, ц...</td>\n",
       "      <td>{}</td>\n",
       "      <td>0</td>\n",
       "    </tr>\n",
       "    <tr>\n",
       "      <th>1</th>\n",
       "      <td>Алиса</td>\n",
       "      <td>Лис</td>\n",
       "      <td>сегодня в лесу встретил странную стрекозу, кот...</td>\n",
       "      <td>2024-08-21</td>\n",
       "      <td>[сегодня, в, лесу, встретил, странную, стрекоз...</td>\n",
       "      <td>{}</td>\n",
       "      <td>0</td>\n",
       "      <td>[сегодня, в, лесу, встретил, странную, стрекоз...</td>\n",
       "      <td>{}</td>\n",
       "      <td>0</td>\n",
       "    </tr>\n",
       "    <tr>\n",
       "      <th>2</th>\n",
       "      <td>Ольга</td>\n",
       "      <td>Белка</td>\n",
       "      <td>эти наглые люди считают, что лес принадлежит и...</td>\n",
       "      <td>2024-08-23</td>\n",
       "      <td>[эти, наглые, люди, считают,, что, лес, принад...</td>\n",
       "      <td>{}</td>\n",
       "      <td>0</td>\n",
       "      <td>[эти, наглые, люди, считают,, что, лес, принад...</td>\n",
       "      <td>{}</td>\n",
       "      <td>0</td>\n",
       "    </tr>\n",
       "    <tr>\n",
       "      <th>3</th>\n",
       "      <td>Мария</td>\n",
       "      <td>Лис</td>\n",
       "      <td>на утренней зарядке заметил, что деревья начал...</td>\n",
       "      <td>2024-06-11</td>\n",
       "      <td>[на, утренней, зарядке, заметил,, что, деревья...</td>\n",
       "      <td>{}</td>\n",
       "      <td>0</td>\n",
       "      <td>[на, утренней, зарядке, заметил,, что, деревья...</td>\n",
       "      <td>{}</td>\n",
       "      <td>0</td>\n",
       "    </tr>\n",
       "    <tr>\n",
       "      <th>4</th>\n",
       "      <td>Ольга</td>\n",
       "      <td>Заяц</td>\n",
       "      <td>сегодня встретил в лесу одинокого сокола, сидя...</td>\n",
       "      <td>2024-07-06</td>\n",
       "      <td>[сегодня, встретил, в, лесу, одинокого, сокола...</td>\n",
       "      <td>{}</td>\n",
       "      <td>0</td>\n",
       "      <td>[сегодня, встретил, в, лесу, одинокого, сокола...</td>\n",
       "      <td>{}</td>\n",
       "      <td>0</td>\n",
       "    </tr>\n",
       "    <tr>\n",
       "      <th>...</th>\n",
       "      <td>...</td>\n",
       "      <td>...</td>\n",
       "      <td>...</td>\n",
       "      <td>...</td>\n",
       "      <td>...</td>\n",
       "      <td>...</td>\n",
       "      <td>...</td>\n",
       "      <td>...</td>\n",
       "      <td>...</td>\n",
       "      <td>...</td>\n",
       "    </tr>\n",
       "    <tr>\n",
       "      <th>254</th>\n",
       "      <td>Алиса</td>\n",
       "      <td>Олень</td>\n",
       "      <td>сегодня встретил в лесу семью белок, играющих ...</td>\n",
       "      <td>2024-07-20</td>\n",
       "      <td>[сегодня, встретил, в, лесу, семью, белок,, иг...</td>\n",
       "      <td>{веселящихся, радость}</td>\n",
       "      <td>2</td>\n",
       "      <td>[сегодня, встретил, в, лесу, семью, белок,, иг...</td>\n",
       "      <td>{веселящихся, радость}</td>\n",
       "      <td>2</td>\n",
       "    </tr>\n",
       "    <tr>\n",
       "      <th>255</th>\n",
       "      <td>Костя</td>\n",
       "      <td>Олень</td>\n",
       "      <td>сегодня встретил в лесу стаю белок, играющих и...</td>\n",
       "      <td>2024-06-20</td>\n",
       "      <td>[сегодня, встретил, в, лесу, стаю, белок,, игр...</td>\n",
       "      <td>{весельем., веселящихся, радость, оптимизмом}</td>\n",
       "      <td>4</td>\n",
       "      <td>[сегодня, встретил, в, лесу, стаю, белок,, игр...</td>\n",
       "      <td>{весельем., веселящихся, радость, оптимизмом}</td>\n",
       "      <td>4</td>\n",
       "    </tr>\n",
       "    <tr>\n",
       "      <th>256</th>\n",
       "      <td>Марина</td>\n",
       "      <td>Медведь</td>\n",
       "      <td>наблюдал за игрой лисы с ее детенышами. они бы...</td>\n",
       "      <td>2024-07-10</td>\n",
       "      <td>[наблюдал, за, игрой, лисы, с, ее, детенышами....</td>\n",
       "      <td>{}</td>\n",
       "      <td>0</td>\n",
       "      <td>[наблюдал, за, игрой, лисы, с, ее, детенышами....</td>\n",
       "      <td>{}</td>\n",
       "      <td>0</td>\n",
       "    </tr>\n",
       "    <tr>\n",
       "      <th>257</th>\n",
       "      <td>Семен</td>\n",
       "      <td>Сорока</td>\n",
       "      <td>сегодня встретил в лесу наглого туриста, котор...</td>\n",
       "      <td>2024-08-29</td>\n",
       "      <td>[сегодня, встретил, в, лесу, наглого, туриста,...</td>\n",
       "      <td>{}</td>\n",
       "      <td>0</td>\n",
       "      <td>[сегодня, встретил, в, лесу, наглого, туриста,...</td>\n",
       "      <td>{}</td>\n",
       "      <td>0</td>\n",
       "    </tr>\n",
       "    <tr>\n",
       "      <th>258</th>\n",
       "      <td>Семен</td>\n",
       "      <td>Волк</td>\n",
       "      <td>сегодня в лесу наткнулся на пустую бутылку, ос...</td>\n",
       "      <td>2024-06-25</td>\n",
       "      <td>[сегодня, в, лесу, наткнулся, на, пустую, буты...</td>\n",
       "      <td>{}</td>\n",
       "      <td>0</td>\n",
       "      <td>[сегодня, в, лесу, наткнулся, на, пустую, буты...</td>\n",
       "      <td>{}</td>\n",
       "      <td>0</td>\n",
       "    </tr>\n",
       "  </tbody>\n",
       "</table>\n",
       "<p>259 rows × 10 columns</p>\n",
       "</div>"
      ],
      "text/plain": [
       "    author_name_2 type_author_2  \\\n",
       "0         Дмитрий        Синица   \n",
       "1           Алиса           Лис   \n",
       "2           Ольга         Белка   \n",
       "3           Мария           Лис   \n",
       "4           Ольга          Заяц   \n",
       "..            ...           ...   \n",
       "254         Алиса         Олень   \n",
       "255         Костя         Олень   \n",
       "256        Марина       Медведь   \n",
       "257         Семен        Сорока   \n",
       "258         Семен          Волк   \n",
       "\n",
       "                                                text_2     date_2  \\\n",
       "0    на прогулке обнаружил поляну, покрытую цветами... 2024-08-29   \n",
       "1    сегодня в лесу встретил странную стрекозу, кот... 2024-08-21   \n",
       "2    эти наглые люди считают, что лес принадлежит и... 2024-08-23   \n",
       "3    на утренней зарядке заметил, что деревья начал... 2024-06-11   \n",
       "4    сегодня встретил в лесу одинокого сокола, сидя... 2024-07-06   \n",
       "..                                                 ...        ...   \n",
       "254  сегодня встретил в лесу семью белок, играющих ... 2024-07-20   \n",
       "255  сегодня встретил в лесу стаю белок, играющих и... 2024-06-20   \n",
       "256  наблюдал за игрой лисы с ее детенышами. они бы... 2024-07-10   \n",
       "257  сегодня встретил в лесу наглого туриста, котор... 2024-08-29   \n",
       "258  сегодня в лесу наткнулся на пустую бутылку, ос... 2024-06-25   \n",
       "\n",
       "                                               count_p  \\\n",
       "0    [на, прогулке, обнаружил, поляну,, покрытую, ц...   \n",
       "1    [сегодня, в, лесу, встретил, странную, стрекоз...   \n",
       "2    [эти, наглые, люди, считают,, что, лес, принад...   \n",
       "3    [на, утренней, зарядке, заметил,, что, деревья...   \n",
       "4    [сегодня, встретил, в, лесу, одинокого, сокола...   \n",
       "..                                                 ...   \n",
       "254  [сегодня, встретил, в, лесу, семью, белок,, иг...   \n",
       "255  [сегодня, встретил, в, лесу, стаю, белок,, игр...   \n",
       "256  [наблюдал, за, игрой, лисы, с, ее, детенышами....   \n",
       "257  [сегодня, встретил, в, лесу, наглого, туриста,...   \n",
       "258  [сегодня, в, лесу, наткнулся, на, пустую, буты...   \n",
       "\n",
       "                                     positive_dub2  count_every_positive_dub2  \\\n",
       "0                                               {}                          0   \n",
       "1                                               {}                          0   \n",
       "2                                               {}                          0   \n",
       "3                                               {}                          0   \n",
       "4                                               {}                          0   \n",
       "..                                             ...                        ...   \n",
       "254                         {веселящихся, радость}                          2   \n",
       "255  {весельем., веселящихся, радость, оптимизмом}                          4   \n",
       "256                                             {}                          0   \n",
       "257                                             {}                          0   \n",
       "258                                             {}                          0   \n",
       "\n",
       "                                               count_n  \\\n",
       "0    [на, прогулке, обнаружил, поляну,, покрытую, ц...   \n",
       "1    [сегодня, в, лесу, встретил, странную, стрекоз...   \n",
       "2    [эти, наглые, люди, считают,, что, лес, принад...   \n",
       "3    [на, утренней, зарядке, заметил,, что, деревья...   \n",
       "4    [сегодня, встретил, в, лесу, одинокого, сокола...   \n",
       "..                                                 ...   \n",
       "254  [сегодня, встретил, в, лесу, семью, белок,, иг...   \n",
       "255  [сегодня, встретил, в, лесу, стаю, белок,, игр...   \n",
       "256  [наблюдал, за, игрой, лисы, с, ее, детенышами....   \n",
       "257  [сегодня, встретил, в, лесу, наглого, туриста,...   \n",
       "258  [сегодня, в, лесу, наткнулся, на, пустую, буты...   \n",
       "\n",
       "                                     negative_dub2  count_every_negative_dub2  \n",
       "0                                               {}                          0  \n",
       "1                                               {}                          0  \n",
       "2                                               {}                          0  \n",
       "3                                               {}                          0  \n",
       "4                                               {}                          0  \n",
       "..                                             ...                        ...  \n",
       "254                         {веселящихся, радость}                          2  \n",
       "255  {весельем., веселящихся, радость, оптимизмом}                          4  \n",
       "256                                             {}                          0  \n",
       "257                                             {}                          0  \n",
       "258                                             {}                          0  \n",
       "\n",
       "[259 rows x 10 columns]"
      ]
     },
     "execution_count": 78,
     "metadata": {},
     "output_type": "execute_result"
    }
   ],
   "source": [
    "dub2['count_p'] = dub2['text_2'].str.split()\n",
    "dub2['positive_dub2'] = dub2['count_p'].apply(lambda x: set(x) & set(list_p))\n",
    "dub2['count_every_positive_dub2'] = dub2['positive_dub2'].apply(len)\n",
    "\n",
    "\n",
    "dub2['count_n'] = dub2['text_2'].str.split()\n",
    "dub2['negative_dub2'] = dub2['count_n'].apply(lambda x: set(x) & set(list_p))\n",
    "dub2['count_every_negative_dub2'] = dub2['negative_dub2'].apply(len)\n",
    "dub2"
   ]
  },
  {
   "cell_type": "code",
   "execution_count": 79,
   "id": "514e3f2d-675d-4198-8b31-2e4b30d09074",
   "metadata": {},
   "outputs": [
    {
     "data": {
      "text/plain": [
       "type_author_2\n",
       "Олень      14\n",
       "Енот       12\n",
       "Заяц       11\n",
       "Сорока     11\n",
       "Синица      9\n",
       "Волк        6\n",
       "Ворон       6\n",
       "Лис         6\n",
       "Воробей     5\n",
       "Белка       4\n",
       "Детял       4\n",
       "Еж          4\n",
       "Медведь     0\n",
       "Name: count_every_positive_dub2, dtype: int64"
      ]
     },
     "execution_count": 79,
     "metadata": {},
     "output_type": "execute_result"
    }
   ],
   "source": [
    "sum_count2 = dub2.groupby('type_author_2')['count_every_positive_dub2'].sum()\n",
    "sum_count2.sort_values(ascending=False)"
   ]
  },
  {
   "cell_type": "code",
   "execution_count": 80,
   "id": "c04a0375-138d-434d-b29c-4dc13844e54a",
   "metadata": {},
   "outputs": [
    {
     "data": {
      "text/plain": [
       "type_author_1\n",
       "Заяц       11\n",
       "Енот       10\n",
       "Лис        10\n",
       "Белка       8\n",
       "Детял       8\n",
       "Воробей     7\n",
       "Ворон       7\n",
       "Синица      6\n",
       "Еж          5\n",
       "Сорока      5\n",
       "Медведь     4\n",
       "Волк        3\n",
       "Олень       3\n",
       "Name: count_every_positive_dub1, dtype: int64"
      ]
     },
     "execution_count": 80,
     "metadata": {},
     "output_type": "execute_result"
    }
   ],
   "source": [
    "sum_count1 = dub1.groupby('type_author_1')['count_every_positive_dub1'].sum()\n",
    "sum_count1.sort_values(ascending=False)"
   ]
  },
  {
   "cell_type": "markdown",
   "id": "8dbaa8be-087a-4f58-bc5e-84c287e0db65",
   "metadata": {},
   "source": [
    "Самый добрый тип животных для Дуба №1: Заяц (11 упоминаний \"положительных\" слов в постах)"
   ]
  },
  {
   "cell_type": "markdown",
   "id": "ddb96fe2-5572-4dc1-89d0-19188904d7f7",
   "metadata": {},
   "source": [
    "Самый добрый тип животных для Дуба №2: Олень (14 упоминаний \"положительных\" слов в постах)"
   ]
  },
  {
   "cell_type": "code",
   "execution_count": 86,
   "id": "d5bd1ff9-91a4-4bdb-acbd-262199e99fb8",
   "metadata": {},
   "outputs": [
    {
     "name": "stdout",
     "output_type": "stream",
     "text": [
      "Количество дней для первого дуба, где среднее значение больше общего среднего: 34\n"
     ]
    }
   ],
   "source": [
    "average_counts_1 = dub1.groupby('date_1')['count_every_positive_dub1'].mean()\n",
    "overall_mean_1 = average_counts_1.mean()\n",
    "\n",
    "count_days_above_mean = 0\n",
    "for date, count in average_counts_1.items():\n",
    "    if count > overall_mean_1:\n",
    "        count_days_above_mean += 1\n",
    "\n",
    "print(\"Количество дней для первого дуба, где среднее значение больше общего среднего:\", count_days_above_mean)\n",
    "\n"
   ]
  },
  {
   "cell_type": "code",
   "execution_count": 85,
   "id": "908afe9c-d86b-4d67-afeb-1d1285838601",
   "metadata": {},
   "outputs": [
    {
     "data": {
      "text/plain": [
       "<matplotlib.legend.Legend at 0x1cad20db2d0>"
      ]
     },
     "execution_count": 85,
     "metadata": {},
     "output_type": "execute_result"
    },
    {
     "data": {
      "image/png": "[encoded data removed]",
      "text/plain": [
       "<Figure size 1200x600 with 1 Axes>"
      ]
     },
     "metadata": {},
     "output_type": "display_data"
    }
   ],
   "source": [
    "# Сортируем DataFrame по столбцу date_1\n",
    "dub1 = dub1.sort_values('date_1')\n",
    "\n",
    "# Строим график для того, чтобы визуально увидеть дни, когда позитивных слов в постах было много!\n",
    "plt.figure(figsize=(12, 6))\n",
    "plt.plot(dub1['date_1'], dub1['count_every_positive_dub1'], label='count_every_positive_dub1')\n",
    "plt.xlabel('Дата')\n",
    "plt.ylabel('Кол-во позитивных слов в постах')\n",
    "plt.title('График количества позитивных слов в постах по дням для Дуба №1')\n",
    "plt.legend()\n"
   ]
  },
  {
   "cell_type": "code",
   "execution_count": 87,
   "id": "deb65105-8092-4b55-aa15-eb742c5da3af",
   "metadata": {},
   "outputs": [
    {
     "data": {
      "text/plain": [
       "<matplotlib.legend.Legend at 0x1cad2129590>"
      ]
     },
     "execution_count": 87,
     "metadata": {},
     "output_type": "execute_result"
    },
    {
     "data": {
      "image/png": "[encoded data removed]",
      "text/plain": [
       "<Figure size 1200x600 with 1 Axes>"
      ]
     },
     "metadata": {},
     "output_type": "display_data"
    }
   ],
   "source": [
    "# Сортируем DataFrame по столбцу date_1\n",
    "dub2 = dub2.sort_values('date_2')\n",
    "\n",
    "# Строим график для того, чтобы визуально увидеть дни, когда позитивных слов в постах было много!\n",
    "plt.figure(figsize=(12, 6))\n",
    "plt.plot(dub2['date_2'], dub2['count_every_positive_dub2'], label='count_every_positive_dub2')\n",
    "plt.xlabel('Дата')\n",
    "plt.ylabel('Кол-во позитивных слов в постах')\n",
    "plt.title('График количества позитивных слов в постах по дням для Дуба №2')\n",
    "plt.legend()"
   ]
  },
  {
   "cell_type": "code",
   "execution_count": null,
   "id": "9855fdf5-7b35-4699-95c6-fa193d8e9bc0",
   "metadata": {},
   "outputs": [],
   "source": []
  }
 ],
 "metadata": {
  "kernelspec": {
   "display_name": "Python 3 (ipykernel)",
   "language": "python",
   "name": "python3"
  },
  "language_info": {
   "codemirror_mode": {
    "name": "ipython",
    "version": 3
   },
   "file_extension": ".py",
   "mimetype": "text/x-python",
   "name": "python",
   "nbconvert_exporter": "python",
   "pygments_lexer": "ipython3",
   "version": "3.11.7"
  }
 },
 "nbformat": 4,
 "nbformat_minor": 5
}
